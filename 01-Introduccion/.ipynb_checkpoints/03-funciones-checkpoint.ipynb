{
 "cells": [
  {
   "cell_type": "code",
   "execution_count": 2,
   "metadata": {},
   "outputs": [
    {
     "name": "stdout",
     "output_type": "stream",
     "text": [
      "Hola mundo\n",
      "Hola mundo\n"
     ]
    },
    {
     "data": {
      "text/plain": [
       "NoneType"
      ]
     },
     "execution_count": 2,
     "metadata": {},
     "output_type": "execute_result"
    }
   ],
   "source": [
    "def hola_mundo():\n",
    "    print(\"Hola mundo\")\n",
    "    \n",
    "hola_mundo()\n",
    "\n",
    "type(hola_mundo())"
   ]
  },
  {
   "cell_type": "code",
   "execution_count": 6,
   "metadata": {},
   "outputs": [
    {
     "name": "stdout",
     "output_type": "stream",
     "text": [
      "suma 3\n"
     ]
    }
   ],
   "source": [
    "def sumar_dos_numeros(num_uno, num_dos):\n",
    "    return num_uno + num_dos\n",
    "\n",
    "suma = sumar_dos_numeros(1,2)\n",
    "\n",
    "print(f\"suma {suma}\")"
   ]
  },
  {
   "cell_type": "code",
   "execution_count": 7,
   "metadata": {},
   "outputs": [
    {
     "name": "stdout",
     "output_type": "stream",
     "text": [
      "EPN\n",
      "UCE\n"
     ]
    }
   ],
   "source": [
    "def imprimir_universidad(nombre='EPN'):\n",
    "    print(nombre)\n",
    "\n",
    "imprimir_universidad()\n",
    "\n",
    "imprimir_universidad('UCE')"
   ]
  },
  {
   "cell_type": "code",
   "execution_count": 12,
   "metadata": {},
   "outputs": [
    {
     "name": "stdout",
     "output_type": "stream",
     "text": [
      "Color: blanco\n",
      "Placa: TBA-4444\n",
      "Caballos de fuerza: 1600\n",
      "Año: 2018\n",
      "Color: Amazul\n",
      "Placa: def-456\n",
      "Caballos de fuerza: 3500\n",
      "Año: 2005\n",
      "Color: blanco\n",
      "Placa: TBA-4444\n",
      "Caballos de fuerza: 1650\n",
      "Año: 1998\n"
     ]
    }
   ],
   "source": [
    "#los opcionales van al final\n",
    "def imprimir_carro(color, placa, hp, anio=1990):\n",
    "    print(f\"Color: {color}\")\n",
    "    print(f\"Placa: {placa}\")\n",
    "    print(f\"Caballos de fuerza: {hp}\")\n",
    "    print(f\"Año: {anio}\")\n",
    "\n",
    "    \n",
    "imprimir_carro(\"blanco\", \"TBA-4444\", 1600, 2018)\n",
    "\n",
    "#named parameters\n",
    "imprimir_carro(anio= 2005,\n",
    "              color= \"Amazul\",\n",
    "              placa = \"def-456\",\n",
    "              hp = 3500)\n",
    "\n",
    "#usarlos juntos\n",
    "imprimir_carro(\"blanco\", \"TBA-4444\", anio=1998, hp= 1650)"
   ]
  },
  {
   "cell_type": "code",
   "execution_count": 23,
   "metadata": {},
   "outputs": [
    {
     "ename": "SyntaxError",
     "evalue": "invalid syntax (<ipython-input-23-3ae14a7ab851>, line 37)",
     "output_type": "error",
     "traceback": [
      "\u001b[1;36m  File \u001b[1;32m\"<ipython-input-23-3ae14a7ab851>\"\u001b[1;36m, line \u001b[1;32m37\u001b[0m\n\u001b[1;33m    def sumar_numeros(primer_numero, *numeros, *tuplas):\u001b[0m\n\u001b[1;37m                                               ^\u001b[0m\n\u001b[1;31mSyntaxError\u001b[0m\u001b[1;31m:\u001b[0m invalid syntax\n"
     ]
    }
   ],
   "source": [
    "#parametros infinitos\n",
    "\n",
    "def sumar_numeros(primer_numero, *numeros):\n",
    "    print(type(primer_numero))\n",
    "    print(type(numeros))\n",
    "    longitud = len(numeros)\n",
    "    if(longitud == 0):\n",
    "        return primer_numero\n",
    "    else:\n",
    "        suma = primer_numero\n",
    "        for numero in numeros:\n",
    "            suma += numero\n",
    "        return suma\n",
    "    \n",
    "    \n",
    "sumar_numeros(1)\n",
    "sumar_numeros(1,2)\n",
    "sumar_numeros(1,2,3,4,5,6,7,8)\n",
    "\n",
    "def sumar_numeros(*numeros, primer_numero):\n",
    "    print(type(primer_numero))\n",
    "    print(type(numeros))\n",
    "    longitud = len(numeros)\n",
    "    if(longitud == 0):\n",
    "        return primer_numero\n",
    "    else:\n",
    "        suma = primer_numero\n",
    "        for numero in numeros:\n",
    "            suma += numero\n",
    "        return suma\n",
    "    \n",
    "    \n",
    "#sumar_numeros(1)\n",
    "#sumar_numeros(1,2)\n",
    "sumar_numeros(1,2,3,4,5,6,7,primer_numero = 8)\n",
    "\n",
    "#no vale mandar dos parametros infinitos"
   ]
  },
  {
   "cell_type": "code",
   "execution_count": 29,
   "metadata": {},
   "outputs": [
    {
     "name": "stdout",
     "output_type": "stream",
     "text": [
      "<class 'dict'>\n",
      "{'tiempo_espera': 10, 'delay': 10, 'ping': 90}\n"
     ]
    }
   ],
   "source": [
    "#keyword arguments\n",
    "def imprimir_configuracion(nombre, valor = 10, **key_word_arguments):\n",
    "    print(type(key_word_arguments))\n",
    "    print(key_word_arguments)\n",
    "\n",
    "imprimir_configuracion(nombre = \"config_1\", valor = 20, tiempo_espera = 10, delay = 10, ping = 90)\n",
    "\n",
    "#los parametros nombrados que no fueron definidos en la función\n",
    "    \n",
    "#los que documentan suelen usar la nomenclatura kwarg"
   ]
  },
  {
   "cell_type": "code",
   "execution_count": null,
   "metadata": {},
   "outputs": [],
   "source": []
  }
 ],
 "metadata": {
  "kernelspec": {
   "display_name": "Python 3",
   "language": "python",
   "name": "python3"
  },
  "language_info": {
   "codemirror_mode": {
    "name": "ipython",
    "version": 3
   },
   "file_extension": ".py",
   "mimetype": "text/x-python",
   "name": "python",
   "nbconvert_exporter": "python",
   "pygments_lexer": "ipython3",
   "version": "3.7.3"
  }
 },
 "nbformat": 4,
 "nbformat_minor": 2
}
