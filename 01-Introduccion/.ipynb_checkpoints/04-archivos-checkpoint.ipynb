{
 "cells": [
  {
   "cell_type": "code",
   "execution_count": 6,
   "metadata": {},
   "outputs": [
    {
     "name": "stdout",
     "output_type": "stream",
     "text": [
      "<class 'list'>\n",
      "['Buenos dÃ\\xadas\\n', 'Buenas tardes\\n', 'Buenas noches\\n', 'Buena tu gfa\\n', 'Buenas madrugadas \\n', 'ABC\\n', 'DEF\\n']\n",
      "Buenos dÃ­as\n",
      "\n",
      "Buenas tardes\n",
      "\n",
      "Buenas noches\n",
      "\n",
      "Buena tu gfa\n",
      "\n",
      "Buenas madrugadas \n",
      "\n",
      "ABC\n",
      "\n",
      "DEF\n",
      "\n"
     ]
    }
   ],
   "source": [
    "#siempre que se manejen archivos hay que validar errores\n",
    "try:\n",
    "    path = \"./frases.txt\"\n",
    "    archivo_abierto = open(path)\n",
    "    #linea_uno = archivo_abierto.readline()\n",
    "    #print(f\"L1: {linea_uno}\")\n",
    "    contenido = archivo_abierto.readlines()\n",
    "    print(type(contenido))\n",
    "    print(contenido)\n",
    "    for linea in contenido:\n",
    "        print(linea)\n",
    "    archivo_abierto.close()\n",
    "except Exception as error:\n",
    "    print(\"Error\")"
   ]
  },
  {
   "cell_type": "code",
   "execution_count": 5,
   "metadata": {},
   "outputs": [],
   "source": [
    "try:\n",
    "    path = \"./frases.txt\"\n",
    "    archivo_escritura_abierto = open(path, mode=\"a\")\n",
    "    #a -> append\n",
    "    #w -> wirte (sobrescribe)\n",
    "    archivo_escritura_abierto.write(\"Buenas madrugadas \\n\")\n",
    "    archivo_escritura_abierto.writelines([\"ABC\\n\", \"DEF\\n\"])\n",
    "    archivo_escritura_abierto.close()\n",
    "except Exception as error:\n",
    "    print(f\"Error: {error}\")"
   ]
  },
  {
   "cell_type": "code",
   "execution_count": null,
   "metadata": {},
   "outputs": [],
   "source": []
  }
 ],
 "metadata": {
  "kernelspec": {
   "display_name": "Python 3",
   "language": "python",
   "name": "python3"
  },
  "language_info": {
   "codemirror_mode": {
    "name": "ipython",
    "version": 3
   },
   "file_extension": ".py",
   "mimetype": "text/x-python",
   "name": "python",
   "nbconvert_exporter": "python",
   "pygments_lexer": "ipython3",
   "version": "3.7.3"
  }
 },
 "nbformat": 4,
 "nbformat_minor": 2
}
