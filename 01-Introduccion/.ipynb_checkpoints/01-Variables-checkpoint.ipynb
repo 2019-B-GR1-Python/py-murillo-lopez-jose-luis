{
 "cells": [
  {
   "cell_type": "code",
   "execution_count": 3,
   "metadata": {},
   "outputs": [],
   "source": []
  },
  {
   "cell_type": "code",
   "execution_count": 27,
   "metadata": {},
   "outputs": [
    {
     "name": "stdout",
     "output_type": "stream",
     "text": [
      "Hola mundo\n"
     ]
    }
   ],
   "source": [
    "print('Hola mundo')"
   ]
  },
  {
   "cell_type": "code",
   "execution_count": 11,
   "metadata": {},
   "outputs": [
    {
     "name": "stdout",
     "output_type": "stream",
     "text": [
      "<class 'int'>\n",
      "<class 'float'>\n",
      "<class 'str'>\n",
      "<class 'str'>\n",
      "<class 'bool'>\n",
      "<class 'bool'>\n",
      "<class 'NoneType'>\n",
      "Adrian\n",
      "<class 'str'>\n"
     ]
    }
   ],
   "source": [
    "##Variables primitivas\n",
    "entero = 3\n",
    "decimal = 1.1\n",
    "nombre = \"Adrian\"\n",
    "segundo_nombre = \"Vicente\"\n",
    "casado = False\n",
    "profesor = True\n",
    "hijos = None\n",
    "print(type(entero))\n",
    "print(type(decimal))\n",
    "print(type(nombre))\n",
    "print(type(segundo_nombre))\n",
    "print(type(casado))\n",
    "print(type(profesor))\n",
    "print(type(hijos))\n",
    "\n"
   ]
  },
  {
   "cell_type": "code",
   "execution_count": 13,
   "metadata": {},
   "outputs": [
    {
     "name": "stdout",
     "output_type": "stream",
     "text": [
      "Adrian\n",
      "<class 'str'>\n"
     ]
    }
   ],
   "source": [
    "entero = nombre\n",
    "print(entero)\n",
    "print(type(entero))"
   ]
  },
  {
   "cell_type": "code",
   "execution_count": 25,
   "metadata": {},
   "outputs": [
    {
     "name": "stdout",
     "output_type": "stream",
     "text": [
      "<class 'tuple'>\n",
      "<class 'list'>\n",
      "<class 'dict'>\n",
      "Falsy\n",
      "Truty\n",
      "Falsy\n",
      "Truty\n",
      "Truty\n",
      "Falsy\n",
      "Falsy\n",
      "Truty\n",
      "Falsy\n",
      "Truty\n",
      "Falsy\n",
      "Truty\n"
     ]
    }
   ],
   "source": [
    "tuplas = ()\n",
    "listas = []\n",
    "diccionarios = {}\n",
    "\n",
    "print(type(tuplas))\n",
    "print(type(listas))\n",
    "print(type(diccionarios))\n",
    "\n",
    "if(\"\"):\n",
    "    print(\"Truty\")\n",
    "else:\n",
    "    print(\"Falsy\")\n",
    "    \n",
    "if(\"algo\"):\n",
    "    print(\"Truty\")\n",
    "else:\n",
    "    print(\"Falsy\")\n",
    "\n",
    "if(0):\n",
    "    print(\"Truty\")\n",
    "else:\n",
    "    print(\"Falsy\")\n",
    "    \n",
    "if(-1):\n",
    "    print(\"Truty\")\n",
    "else:\n",
    "    print(\"Falsy\")\n",
    "\n",
    "if(1):\n",
    "    print(\"Truty\")\n",
    "else:\n",
    "    print(\"Falsy\")\n",
    "\n",
    "if(None):\n",
    "    print(\"Truty\")\n",
    "else:\n",
    "    print(\"Falsy\")\n",
    "    \n",
    "if(()):\n",
    "    print(\"Truty\")\n",
    "else:\n",
    "    print(\"Falsy\")\n",
    "\n",
    "if((1,2)):\n",
    "    print(\"Truty\")\n",
    "else:\n",
    "    print(\"Falsy\")\n",
    "\n",
    "if([]):\n",
    "    print(\"Truty\")\n",
    "else:\n",
    "    print(\"Falsy\")\n",
    "\n",
    "if([1,2]):\n",
    "    print(\"Truty\")\n",
    "else:\n",
    "    print(\"Falsy\")\n",
    "\n",
    "if({}):\n",
    "    print(\"Truty\")\n",
    "else:\n",
    "    print(\"Falsy\")\n",
    "\n",
    "if({1:2}):\n",
    "    print(\"Truty\")\n",
    "else:\n",
    "    print(\"Falsy\")"
   ]
  },
  {
   "cell_type": "code",
   "execution_count": 26,
   "metadata": {},
   "outputs": [],
   "source": [
    "arreglo = [1, 2, 3, 4, 5, 6, 7, 8, 9, 10]"
   ]
  },
  {
   "cell_type": "code",
   "execution_count": 51,
   "metadata": {},
   "outputs": [
    {
     "data": {
      "text/plain": [
       "[1, 2, 3, 4, 5, 6, 7, 8, 9, 10]"
      ]
     },
     "execution_count": 51,
     "metadata": {},
     "output_type": "execute_result"
    }
   ],
   "source": [
    "arreglo[2:5]\n",
    "arreglo[2:]\n",
    "arreglo[:7]\n",
    "arreglo[2:-1]\n",
    "arreglo[-8:-1]\n",
    "arreglo[:]\n"
   ]
  },
  {
   "cell_type": "code",
   "execution_count": 63,
   "metadata": {},
   "outputs": [
    {
     "name": "stdout",
     "output_type": "stream",
     "text": [
      "<class 'bool'>\n"
     ]
    },
    {
     "data": {
      "text/plain": [
       "[1, 1.1, 1.1, 2, 3, 4, 5, 6, 7, 8, 9, 10, 11]"
      ]
     },
     "execution_count": 63,
     "metadata": {},
     "output_type": "execute_result"
    }
   ],
   "source": [
    "print(type(7 in arreglo))\n",
    "7 in arreglo \n",
    "\n",
    "arreglo.append(11)\n",
    "arreglo\n",
    "\n",
    "arreglo.pop()\n",
    "\n",
    "arreglo.insert(1,1.1)\n",
    "arreglo"
   ]
  },
  {
   "cell_type": "code",
   "execution_count": 39,
   "metadata": {},
   "outputs": [
    {
     "name": "stdout",
     "output_type": "stream",
     "text": [
      "1\n",
      "2\n",
      "3\n",
      "4\n",
      "5\n",
      "6\n",
      "7\n",
      "8\n",
      "9\n",
      "10\n",
      "0\n",
      "1\n",
      "2\n",
      "3\n",
      "4\n",
      "5\n",
      "6\n",
      "7\n",
      "8\n",
      "9\n"
     ]
    }
   ],
   "source": [
    "for numero in arreglo:\n",
    "    print(numero)\n",
    "    \n",
    "contador = 0\n",
    "while contador < 10 :\n",
    "    print(contador)\n",
    "    contador += 1"
   ]
  },
  {
   "cell_type": "code",
   "execution_count": 42,
   "metadata": {},
   "outputs": [
    {
     "data": {
      "text/plain": [
       "True"
      ]
     },
     "execution_count": 42,
     "metadata": {},
     "output_type": "execute_result"
    }
   ],
   "source": [
    "tupla_numeros = (1, 2, 3, 4, 5, 6, 7, 8, 9, 10)\n",
    "tupla_numeros[0:3]\n",
    "3 in tupla_numeros"
   ]
  },
  {
   "cell_type": "code",
   "execution_count": 47,
   "metadata": {},
   "outputs": [
    {
     "data": {
      "text/plain": [
       "{'Adrian': 'José', None: None, False: False, 'apellido': 'Murillo', 'Edad': 21}"
      ]
     },
     "execution_count": 47,
     "metadata": {},
     "output_type": "execute_result"
    }
   ],
   "source": [
    "jose = {\n",
    "    nombre: \"José\",\n",
    "    hijos: None,\n",
    "    casado : False,\n",
    "    \"apellido\" : 'Murillo',\n",
    "    \"Edad\" : 21\n",
    "}\n",
    "jose"
   ]
  },
  {
   "cell_type": "code",
   "execution_count": 70,
   "metadata": {},
   "outputs": [
    {
     "data": {
      "text/plain": [
       "False"
      ]
     },
     "execution_count": 70,
     "metadata": {},
     "output_type": "execute_result"
    }
   ],
   "source": [
    "jose[nombre]\n",
    "\n",
    "jose.keys()\n",
    "jose.values()\n",
    "\n",
    "\"apellido\" in jose.keys()\n",
    "\"apellido\" in jose.values()\n",
    "\n",
    "1 == 1 or 2 == 3 #True\n",
    "1 == 1 and 2 == 3 #False"
   ]
  },
  {
   "cell_type": "code",
   "execution_count": null,
   "metadata": {},
   "outputs": [],
   "source": [
    "\n"
   ]
  }
 ],
 "metadata": {
  "kernelspec": {
   "display_name": "Python 3",
   "language": "python",
   "name": "python3"
  },
  "language_info": {
   "codemirror_mode": {
    "name": "ipython",
    "version": 3
   },
   "file_extension": ".py",
   "mimetype": "text/x-python",
   "name": "python",
   "nbconvert_exporter": "python",
   "pygments_lexer": "ipython3",
   "version": "3.7.3"
  }
 },
 "nbformat": 4,
 "nbformat_minor": 2
}
