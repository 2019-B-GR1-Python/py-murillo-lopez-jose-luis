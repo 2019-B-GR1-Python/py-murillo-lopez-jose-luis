{
 "cells": [
  {
   "cell_type": "code",
   "execution_count": 1,
   "metadata": {},
   "outputs": [
    {
     "data": {
      "text/plain": [
       "4"
      ]
     },
     "execution_count": 1,
     "metadata": {},
     "output_type": "execute_result"
    }
   ],
   "source": [
    "def elevar_al_cuadrado(numero):\n",
    "    return numero*numero\n",
    "\n",
    "elevar_al_cuadrado(2)"
   ]
  },
  {
   "cell_type": "code",
   "execution_count": 3,
   "metadata": {},
   "outputs": [
    {
     "data": {
      "text/plain": [
       "4"
      ]
     },
     "execution_count": 3,
     "metadata": {},
     "output_type": "execute_result"
    }
   ],
   "source": [
    "elevar_al_cuadrado_lamdba = lambda numero: numero * numero\n",
    "\n",
    "elevar_al_cuadrado_lamdba(2)"
   ]
  },
  {
   "cell_type": "code",
   "execution_count": 5,
   "metadata": {},
   "outputs": [
    {
     "name": "stdout",
     "output_type": "stream",
     "text": [
      "Mensaje: Hola\n"
     ]
    }
   ],
   "source": [
    "prueba_lambda = lambda mensaje: print('Mensaje: ' + mensaje)\n",
    "\n",
    "prueba_lambda(\"Hola\")"
   ]
  },
  {
   "cell_type": "code",
   "execution_count": 6,
   "metadata": {},
   "outputs": [
    {
     "data": {
      "text/plain": [
       "3"
      ]
     },
     "execution_count": 6,
     "metadata": {},
     "output_type": "execute_result"
    }
   ],
   "source": [
    "suma_lambda = lambda numero1, numero2 : numero1 + numero2\n",
    "\n",
    "suma_lambda(1,2)"
   ]
  },
  {
   "cell_type": "code",
   "execution_count": 8,
   "metadata": {},
   "outputs": [],
   "source": [
    "class Nada():\n",
    "    pass"
   ]
  },
  {
   "cell_type": "code",
   "execution_count": 9,
   "metadata": {},
   "outputs": [
    {
     "name": "stdout",
     "output_type": "stream",
     "text": [
      "<__main__.Nada object at 0x0000022128F22160>\n",
      "<class '__main__.Nada'>\n"
     ]
    }
   ],
   "source": [
    "una_nada = Nada()\n",
    "print(una_nada)\n",
    "print(type(una_nada))"
   ]
  },
  {
   "cell_type": "code",
   "execution_count": 23,
   "metadata": {},
   "outputs": [
    {
     "name": "stdout",
     "output_type": "stream",
     "text": [
      "Empezo el constructor\n",
      "Azul\n",
      "Color: Azul\n",
      "Chasis: 1\n",
      "1\n",
      "14\n"
     ]
    }
   ],
   "source": [
    "class Auto:\n",
    "    color = None\n",
    "    __numero_chasis = 1\n",
    "    \n",
    "    def __init__(self, color): #self = this\n",
    "        print(\"Empezo el constructor\")\n",
    "        self.color = color\n",
    "        print(self.color)\n",
    "\n",
    "    def __str__(self):\n",
    "        return f\"Color: {self.color}\\nChasis: {self.__numero_chasis}\"\n",
    "    \n",
    "    def numero_chasis_impuesto(self):\n",
    "        return self.__calcular_impuesto()\n",
    "    \n",
    "    def __calcular_impuesto(self):\n",
    "        return 14 * self.__numero_chasis\n",
    "        \n",
    "nuevo_auto = Auto(\"Azul\")\n",
    "print(nuevo_auto)\n",
    "\n",
    "print(nuevo_auto._Auto__numero_chasis)\n",
    "\n",
    "print(nuevo_auto.numero_chasis_impuesto())\n",
    "\n"
   ]
  },
  {
   "cell_type": "code",
   "execution_count": 30,
   "metadata": {},
   "outputs": [
    {
     "name": "stdout",
     "output_type": "stream",
     "text": [
      "Inicializando BMW\n",
      "Empezo el constructor\n",
      "Rojo\n",
      "Color: Rojo\n",
      "Chasis: 1\n"
     ]
    }
   ],
   "source": [
    "class BMW(Auto):\n",
    "    def __init__(self, color):\n",
    "        print(\"Inicializando BMW\")\n",
    "        super().__init__(color)\n",
    "    \n",
    "carro = BMW(\"Rojo\")\n",
    "\n",
    "print(carro)"
   ]
  },
  {
   "cell_type": "code",
   "execution_count": 33,
   "metadata": {},
   "outputs": [
    {
     "data": {
      "text/plain": [
       "0.5"
      ]
     },
     "execution_count": 33,
     "metadata": {},
     "output_type": "execute_result"
    }
   ],
   "source": [
    "#funciones dentro de funciones\n",
    "def calculadora(num_uno, num_dos, operacion = \"suma\"):\n",
    "    def suma():\n",
    "        return num_uno + num_dos\n",
    "    def resta():\n",
    "        return num_uno - num_dos\n",
    "    def multiplicacion():\n",
    "        return num_uno * num_dos\n",
    "    def division():\n",
    "        return num_uno / num_dos\n",
    "    def opcion_seleccionada():\n",
    "        opciones = {\n",
    "            'suma' : suma(),\n",
    "            'resta' : resta(),\n",
    "            'multiplicacion' : multiplicacion(),\n",
    "            'division' : division()\n",
    "        }\n",
    "        return opciones[operacion]\n",
    "    \n",
    "    return opcion_seleccionada()\n",
    "\n",
    "calculadora(1,2,\"division\")"
   ]
  },
  {
   "cell_type": "code",
   "execution_count": 34,
   "metadata": {},
   "outputs": [
    {
     "name": "stdout",
     "output_type": "stream",
     "text": [
      "Dime tu edad: 5\n"
     ]
    },
    {
     "data": {
      "text/plain": [
       "'5'"
      ]
     },
     "execution_count": 34,
     "metadata": {},
     "output_type": "execute_result"
    }
   ],
   "source": [
    "input(\"Dime tu edad: \")"
   ]
  },
  {
   "cell_type": "code",
   "execution_count": null,
   "metadata": {},
   "outputs": [],
   "source": []
  }
 ],
 "metadata": {
  "kernelspec": {
   "display_name": "Python 3",
   "language": "python",
   "name": "python3"
  },
  "language_info": {
   "codemirror_mode": {
    "name": "ipython",
    "version": 3
   },
   "file_extension": ".py",
   "mimetype": "text/x-python",
   "name": "python",
   "nbconvert_exporter": "python",
   "pygments_lexer": "ipython3",
   "version": "3.7.3"
  }
 },
 "nbformat": 4,
 "nbformat_minor": 2
}
